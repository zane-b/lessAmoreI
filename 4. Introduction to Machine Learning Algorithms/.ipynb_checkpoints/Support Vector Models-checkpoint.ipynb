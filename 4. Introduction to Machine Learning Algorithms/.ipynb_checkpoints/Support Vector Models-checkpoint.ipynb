{
 "cells": [
  {
   "cell_type": "markdown",
   "id": "87e6ff90",
   "metadata": {},
   "source": [
    "# Support Vector Models\n"
   ]
  },
  {
   "cell_type": "markdown",
   "id": "a1441be1",
   "metadata": {},
   "source": [
    "## REFERENCES AND RESOURCES"
   ]
  },
  {
   "cell_type": "code",
   "execution_count": null,
   "id": "1abbd192",
   "metadata": {},
   "outputs": [],
   "source": []
  }
 ],
 "metadata": {
  "kernelspec": {
   "display_name": "Python 3 (ipykernel)",
   "language": "python",
   "name": "python3"
  },
  "language_info": {
   "codemirror_mode": {
    "name": "ipython",
    "version": 3
   },
   "file_extension": ".py",
   "mimetype": "text/x-python",
   "name": "python",
   "nbconvert_exporter": "python",
   "pygments_lexer": "ipython3",
   "version": "3.9.16"
  }
 },
 "nbformat": 4,
 "nbformat_minor": 5
}
