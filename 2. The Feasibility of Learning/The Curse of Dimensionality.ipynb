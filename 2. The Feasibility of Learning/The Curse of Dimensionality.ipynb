{
 "cells": [
  {
   "cell_type": "markdown",
   "id": "d9ff5bd1",
   "metadata": {},
   "source": [
    "# The Curse of Dimensionality \n",
    "\n",
    "Things get weird in higher dimensions. Did you know that spheres have spikes in higher dims, bet not. Data is sparse in higher dmensions and this causes issues for ML."
   ]
  },
  {
   "cell_type": "markdown",
   "id": "258831ae",
   "metadata": {},
   "source": [
    "## REFERENCES AND RESOURCES\n",
    "1. curse of dimensionality paper\n"
   ]
  }
 ],
 "metadata": {
  "kernelspec": {
   "display_name": "Python 3 (ipykernel)",
   "language": "python",
   "name": "python3"
  },
  "language_info": {
   "codemirror_mode": {
    "name": "ipython",
    "version": 3
   },
   "file_extension": ".py",
   "mimetype": "text/x-python",
   "name": "python",
   "nbconvert_exporter": "python",
   "pygments_lexer": "ipython3",
   "version": "3.9.16"
  }
 },
 "nbformat": 4,
 "nbformat_minor": 5
}
