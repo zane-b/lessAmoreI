{
 "cells": [
  {
   "cell_type": "markdown",
   "id": "bb0a1414",
   "metadata": {},
   "source": [
    "# The Challenge of Learning \n",
    "\n",
    "In mathematical terms, describe the challenge of inferrence from collected data. sections 1.1 and 1.2 from AML. also include the common ML tasks described in the deep learning text.\n",
    "\n"
   ]
  },
  {
   "cell_type": "markdown",
   "id": "3040f152",
   "metadata": {},
   "source": [
    "## REFERENCES AND RESOURCES\n",
    "1. AML text and lecture"
   ]
  }
 ],
 "metadata": {
  "kernelspec": {
   "display_name": "Python 3 (ipykernel)",
   "language": "python",
   "name": "python3"
  },
  "language_info": {
   "codemirror_mode": {
    "name": "ipython",
    "version": 3
   },
   "file_extension": ".py",
   "mimetype": "text/x-python",
   "name": "python",
   "nbconvert_exporter": "python",
   "pygments_lexer": "ipython3",
   "version": "3.9.16"
  }
 },
 "nbformat": 4,
 "nbformat_minor": 5
}
