{
 "cells": [
  {
   "cell_type": "markdown",
   "id": "294c46e5",
   "metadata": {},
   "source": [
    "# The Feasibility of Learning\n",
    "\n",
    "Why is learning even mathematically reasonable. Instead of a drawing red/green marbles, use the example of trying to estimate the bias of an unfair coin being flipped. "
   ]
  },
  {
   "cell_type": "markdown",
   "id": "5ea52d18",
   "metadata": {},
   "source": [
    "## REFERENCES AND RESOURCES\n",
    "1. AML book and lectures"
   ]
  }
 ],
 "metadata": {
  "kernelspec": {
   "display_name": "Python 3 (ipykernel)",
   "language": "python",
   "name": "python3"
  },
  "language_info": {
   "codemirror_mode": {
    "name": "ipython",
    "version": 3
   },
   "file_extension": ".py",
   "mimetype": "text/x-python",
   "name": "python",
   "nbconvert_exporter": "python",
   "pygments_lexer": "ipython3",
   "version": "3.9.16"
  }
 },
 "nbformat": 4,
 "nbformat_minor": 5
}
