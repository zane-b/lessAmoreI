{
 "cells": [
  {
   "cell_type": "markdown",
   "id": "6a816540",
   "metadata": {},
   "source": [
    "# Frequency Analysis\n",
    "\n",
    "Discuss the fourier transofrm, the FFT,  wavelet analysis"
   ]
  },
  {
   "cell_type": "markdown",
   "id": "6b48fdbd",
   "metadata": {},
   "source": [
    "## References and Resources\n",
    "\n",
    "1. notes from math/comp methods 2\n",
    "2. Intelligent Feature Selection for Machine Learning Using the Dynamic Wavelet Fingerprint by MK Hinders\n",
    "3. Data-Driven Science and Engineering by SL Brunton and JN Kutz\n",
    "\n",
    "Supplemental Material\n",
    "1. 3B1B videos on fourier transform and convolution\n",
    "2. that awesome video by on FFT algo: https://www.youtube.com/watch?v=iTMn0Kt18tg&ab_channel=MITOpenCourseWare\n",
    "3. gilbert strang fft lecture: https://www.youtube.com/watch?v=M0Sa8fLOajA&ab_channel=MITOpenCourseWare"
   ]
  }
 ],
 "metadata": {
  "kernelspec": {
   "display_name": "Python 3 (ipykernel)",
   "language": "python",
   "name": "python3"
  },
  "language_info": {
   "codemirror_mode": {
    "name": "ipython",
    "version": 3
   },
   "file_extension": ".py",
   "mimetype": "text/x-python",
   "name": "python",
   "nbconvert_exporter": "python",
   "pygments_lexer": "ipython3",
   "version": "3.9.16"
  }
 },
 "nbformat": 4,
 "nbformat_minor": 5
}
