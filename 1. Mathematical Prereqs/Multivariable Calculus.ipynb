{
 "cells": [
  {
   "cell_type": "markdown",
   "id": "279f90b2",
   "metadata": {},
   "source": [
    "# Multivariable Calculus\n",
    "\n",
    "Assume the reader is familiar with single variable calc"
   ]
  },
  {
   "cell_type": "markdown",
   "id": "6f15ccb2",
   "metadata": {},
   "source": [
    "## Functions in multiple dimensions\n",
    "\n",
    "plot some surface why dont ya"
   ]
  },
  {
   "cell_type": "markdown",
   "id": "aa858ef8",
   "metadata": {},
   "source": [
    "## Derivates "
   ]
  },
  {
   "cell_type": "markdown",
   "id": "c0d259d2",
   "metadata": {},
   "source": [
    "## We care about the Gradient"
   ]
  },
  {
   "cell_type": "markdown",
   "id": "f1964826",
   "metadata": {},
   "source": [
    "## References and Resources\n",
    "\n",
    "1. div grad curl and all that 2nd Ed. by HM schey\n",
    "2. "
   ]
  }
 ],
 "metadata": {
  "kernelspec": {
   "display_name": "Python 3 (ipykernel)",
   "language": "python",
   "name": "python3"
  },
  "language_info": {
   "codemirror_mode": {
    "name": "ipython",
    "version": 3
   },
   "file_extension": ".py",
   "mimetype": "text/x-python",
   "name": "python",
   "nbconvert_exporter": "python",
   "pygments_lexer": "ipython3",
   "version": "3.9.16"
  }
 },
 "nbformat": 4,
 "nbformat_minor": 5
}
