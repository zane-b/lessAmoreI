{
 "cells": [
  {
   "cell_type": "markdown",
   "id": "196090c9",
   "metadata": {},
   "source": [
    "# Linear Algebra "
   ]
  },
  {
   "cell_type": "markdown",
   "id": "c7ceac1a",
   "metadata": {},
   "source": [
    "If you were take a linear algebra course (in a mathematics department) and your professor was anything like mine than you would be spending much of the semester tackling proofs about the properties of vectors spaces and the properties of matrices. While this is quite useful for budding mathematicians, it serves little value to the machine learning practitioner. In the context of ML, obtaining a surface level understanding of linear algebra and its importance in computation will suffice. "
   ]
  },
  {
   "cell_type": "markdown",
   "id": "54f06739",
   "metadata": {},
   "source": [
    "## Scalars, Vectors, Matrices, and Tensors\n",
    "\n",
    "The mathematical objects studied in a typical linear algebra course are\n",
    "1. **Scalar**: A scalar is simply a signle number. For this section, scalars will be denoted by lowercase letters in italics. For instance, $a$ is a scalar value.\n",
    "\n",
    "2. **Vectors**: A vector is a list of scalar values and will be denoted by lowercase letters with an arrow such as $\\vec{a}$. The elements of a vector are typically denoted by an index. The *i*th entry in $\\vec{a}$ is denoted $a_i$. We can write out the vector as a column of elements.\n",
    "$$\n",
    "\\begin{bmatrix}\n",
    "`r x[1]` \\\\ `r x[2]` \\\\ `r x[3]`\n",
    "\\end{bmatrix}\n",
    "$$"
   ]
  },
  {
   "cell_type": "markdown",
   "id": "82a5e0a2",
   "metadata": {},
   "source": [
    "## Properties of Scalars, Vectors, and Matrices"
   ]
  },
  {
   "cell_type": "markdown",
   "id": "651ae12b",
   "metadata": {},
   "source": [
    "## Other Topics"
   ]
  },
  {
   "cell_type": "markdown",
   "id": "db38f8e5",
   "metadata": {},
   "source": [
    "## Numerical Linear Algebra"
   ]
  },
  {
   "cell_type": "code",
   "execution_count": null,
   "id": "d1ffce93",
   "metadata": {},
   "outputs": [],
   "source": []
  },
  {
   "cell_type": "markdown",
   "id": "7db10282",
   "metadata": {},
   "source": [
    "## REFERENCES AND RESOURCES\n",
    "\n",
    "### Primary Sources\n",
    "1. Chapter 1: Linear Algebra, Deep Learning by Goodfellow, Bengio, and Courville\n",
    "2. Elementary Linear Algebra by Spence, Insel, and Friedberg\n",
    "3. Numerical Analysis by Burden, Fairies, and Burden\n",
    "\n",
    "### Supplementary Material\n",
    "1. 3B1B linear algebra series"
   ]
  },
  {
   "cell_type": "code",
   "execution_count": null,
   "id": "6679428a",
   "metadata": {},
   "outputs": [],
   "source": []
  }
 ],
 "metadata": {
  "kernelspec": {
   "display_name": "Python 3 (ipykernel)",
   "language": "python",
   "name": "python3"
  },
  "language_info": {
   "codemirror_mode": {
    "name": "ipython",
    "version": 3
   },
   "file_extension": ".py",
   "mimetype": "text/x-python",
   "name": "python",
   "nbconvert_exporter": "python",
   "pygments_lexer": "ipython3",
   "version": "3.9.16"
  }
 },
 "nbformat": 4,
 "nbformat_minor": 5
}
