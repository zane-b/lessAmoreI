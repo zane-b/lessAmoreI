{
 "cells": [
  {
   "cell_type": "markdown",
   "id": "19561eff",
   "metadata": {},
   "source": [
    "# Convolution\n",
    "\n",
    "Explain convolution of signals/functions including the fourier convolution thrm. , then for images, explain the importance in probability"
   ]
  },
  {
   "cell_type": "markdown",
   "id": "630f449f",
   "metadata": {},
   "source": [
    "## References\n",
    "1. Notes from Math/Comp. Methods 2\n",
    "2. Intelligent Feature Selection for Machine Learning Using the Dynamic Wavelet Fingerprint"
   ]
  }
 ],
 "metadata": {
  "kernelspec": {
   "display_name": "Python 3 (ipykernel)",
   "language": "python",
   "name": "python3"
  },
  "language_info": {
   "codemirror_mode": {
    "name": "ipython",
    "version": 3
   },
   "file_extension": ".py",
   "mimetype": "text/x-python",
   "name": "python",
   "nbconvert_exporter": "python",
   "pygments_lexer": "ipython3",
   "version": "3.9.16"
  }
 },
 "nbformat": 4,
 "nbformat_minor": 5
}
