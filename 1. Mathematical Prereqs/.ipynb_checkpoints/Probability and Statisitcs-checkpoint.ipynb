{
 "cells": [
  {
   "cell_type": "markdown",
   "id": "d67e456e",
   "metadata": {},
   "source": [
    "# Probability and Statistics\n",
    "\n",
    "This section will be a doozy. There's a lot to cover in this one. Common distributions, properties of distributions etc. Try to focus on what's needed for ML.the bernoulli trial and binomial dist are relevant for binary classification"
   ]
  },
  {
   "cell_type": "markdown",
   "id": "aa7cea43",
   "metadata": {},
   "source": [
    "## REFERENCES AND RESOURCES\n",
    "1. Practical statisitics for Data Scientist by by B Peter\n",
    "2. Deep Learning by Goodfellow, Bengio, and Courville\n",
    "3. Advanced Engineering Mathematics 9th Ed. by E Kreyszig"
   ]
  }
 ],
 "metadata": {
  "kernelspec": {
   "display_name": "Python 3 (ipykernel)",
   "language": "python",
   "name": "python3"
  },
  "language_info": {
   "codemirror_mode": {
    "name": "ipython",
    "version": 3
   },
   "file_extension": ".py",
   "mimetype": "text/x-python",
   "name": "python",
   "nbconvert_exporter": "python",
   "pygments_lexer": "ipython3",
   "version": "3.9.16"
  }
 },
 "nbformat": 4,
 "nbformat_minor": 5
}
