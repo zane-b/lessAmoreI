{
 "cells": [
  {
   "cell_type": "markdown",
   "id": "ddbf875d",
   "metadata": {},
   "source": [
    "# Information Theory\n",
    "\n",
    "Motivate and describe\n",
    "\n"
   ]
  },
  {
   "cell_type": "markdown",
   "id": "00202a7b",
   "metadata": {},
   "source": [
    "## Brief History\n",
    "\n",
    "Shannon is a boss"
   ]
  },
  {
   "cell_type": "markdown",
   "id": "06c06aac",
   "metadata": {},
   "source": [
    "## Encoding"
   ]
  },
  {
   "cell_type": "markdown",
   "id": "c8478cf1",
   "metadata": {},
   "source": [
    "## Shannon Entropy"
   ]
  },
  {
   "cell_type": "markdown",
   "id": "608edcf1",
   "metadata": {},
   "source": [
    "## Relations to Probability "
   ]
  },
  {
   "cell_type": "markdown",
   "id": "d828d0a6",
   "metadata": {},
   "source": [
    "## References and Resources\n",
    "\n",
    "### Main Sources\n",
    "1. An Introduction to Information Theory 2nd Ed. by JR Pierce\n",
    "2. Deep Learning by Goodfellow, Bengio, and Courville\n",
    "\n"
   ]
  }
 ],
 "metadata": {
  "kernelspec": {
   "display_name": "Python 3 (ipykernel)",
   "language": "python",
   "name": "python3"
  },
  "language_info": {
   "codemirror_mode": {
    "name": "ipython",
    "version": 3
   },
   "file_extension": ".py",
   "mimetype": "text/x-python",
   "name": "python",
   "nbconvert_exporter": "python",
   "pygments_lexer": "ipython3",
   "version": "3.9.16"
  }
 },
 "nbformat": 4,
 "nbformat_minor": 5
}
