{
 "cells": [
  {
   "cell_type": "markdown",
   "id": "0efa203d",
   "metadata": {},
   "source": [
    "# Graphs and Networks\n",
    "\n",
    "Motivate the topic. include some plots from networkx library to help visualize"
   ]
  },
  {
   "cell_type": "markdown",
   "id": "0923dd2c",
   "metadata": {},
   "source": [
    "## Graph Theory Basics\n",
    "\n",
    "Define what a graph is and how we can represent it numerically\n",
    "\n"
   ]
  },
  {
   "cell_type": "markdown",
   "id": "a5894f6c",
   "metadata": {},
   "source": [
    "## Properties of the Adj and Lapalacian Matrices"
   ]
  },
  {
   "cell_type": "markdown",
   "id": "829fd8de",
   "metadata": {},
   "source": [
    "## The Isomorphism Problem"
   ]
  },
  {
   "cell_type": "markdown",
   "id": "15d3bc4c",
   "metadata": {},
   "source": [
    "## Networks \n",
    "\n",
    "whats the difference between a graph and a network. brief history."
   ]
  },
  {
   "cell_type": "markdown",
   "id": "753329c8",
   "metadata": {},
   "source": [
    "## Network metrics"
   ]
  },
  {
   "cell_type": "markdown",
   "id": "08b5ae49",
   "metadata": {},
   "source": [
    "##  Common Networks\n",
    "\n",
    "random, small world, scale free"
   ]
  },
  {
   "cell_type": "markdown",
   "id": "b05f2211",
   "metadata": {},
   "source": [
    "## References and Resourcs\n",
    "\n",
    "### Primary Sources:\n",
    "1. Introduction to Graph Theory by RJ Trudeau\n",
    "2. Look into some major network science papers by the likes of strogatz or barabasi"
   ]
  },
  {
   "cell_type": "code",
   "execution_count": null,
   "id": "7970ebb3",
   "metadata": {},
   "outputs": [],
   "source": []
  }
 ],
 "metadata": {
  "kernelspec": {
   "display_name": "Python 3 (ipykernel)",
   "language": "python",
   "name": "python3"
  },
  "language_info": {
   "codemirror_mode": {
    "name": "ipython",
    "version": 3
   },
   "file_extension": ".py",
   "mimetype": "text/x-python",
   "name": "python",
   "nbconvert_exporter": "python",
   "pygments_lexer": "ipython3",
   "version": "3.9.16"
  }
 },
 "nbformat": 4,
 "nbformat_minor": 5
}
