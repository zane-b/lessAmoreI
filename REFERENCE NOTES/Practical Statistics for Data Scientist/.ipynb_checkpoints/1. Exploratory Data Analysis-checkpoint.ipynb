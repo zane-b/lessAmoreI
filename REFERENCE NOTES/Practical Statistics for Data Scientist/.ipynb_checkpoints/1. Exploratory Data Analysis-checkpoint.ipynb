{
 "cells": [
  {
   "cell_type": "markdown",
   "id": "5c78ecce",
   "metadata": {},
   "source": [
    "# Chapter 1: Exploratory Data Analysis\n",
    "\n",
    "Modern data analysis was pioneered by the statician John Tukey in the 1960s and 1970s. Across these two decades Tukey published several impactful works which laid the foundation for data analysis and science. Following his publications, the field of data science has enjoyed a rapid growth in popularity driven by technology developments and greater access to data."
   ]
  },
  {
   "cell_type": "markdown",
   "id": "31cd6a7f",
   "metadata": {},
   "source": [
    "## Elements of Structured Data\n",
    "\n",
    "___\n",
    "**Key Terms**\n",
    "1. Numeric: Data that are expressed on a numeric scale.\n",
    "2. Continuous: A type of numeric data that can take on any value in an interval. \n",
    "3. Discrete: A type of numeric data that can take on only integer values, such as counts.\n",
    "4. Categorical: Data that can yake on only a specific set of values representing a set of possible categories.\n",
    "5. Binary: A type of categorical data with just two categories of values such as 0/1 or false/true.\n",
    "6. Ordinal: A type of categorical data that has an explicit ordering. \n",
    "___\n",
    "\n",
    "The IoT and other devices have led to a massive influx of new, raw data. Signals from sensors, images, user clicks, and text are just a few examples of the data being generated daily. One of the major challenges of data science is harnessing this corpus of unstructured data into actionable info. To apply the statistical concepts in this text, raw data must be processed and transformed into a structured form. One of the most common structured data types is tables with rows/columns such as the data stored in a relational database.\n",
    "\n",
    "The two basic types of structured data are numeric and categorical. Numeric data can either be continuous(speed or time duration) or discrete (number of people or number of events) in nature. Categorical data can only take on a limited number of values such types of TV screens (plasma, LED, etc.) or the name of states (Alaska, Pennsylvania, etc.). Binary data is a special case of categoricl data where the value can only take on two possible values such 0/1 or false/positive. Ordinal data os another type of categorical data in which there is an ordering of the cateries like a numerical rating (1,2,3,4,5).\n",
    "\n",
    "The data types in a given dataset is important in deciding which the visual displays, analysis, and models which we will employ. Further, data types are exploited in numerical software to make statistical packages more efficient. Someone may ask why categorical data is needed as a data type since they are ultimately handled as text or numeric data during computation. However, the disticntion between and categorical and text data is useful for a few reasons:\n",
    "1. Storing data as categorical can signal to software packages how certain statistical procedures such as producing a chart or fitting a model should behave.\n",
    "2. Optimatization of storage and indexing\n",
    "3. The possible values of a categorical variable can be enforced in the software.\n",
    "\n",
    "___\n",
    "**Key Ideas**\n",
    "1. Data is classified as in software by type.\n",
    "2. Data types include numeric(continous,discrete) and categorical(binary, ordinal).\n",
    "3. Data types can signal to software how to process the data.\n",
    "\n",
    "\n",
    "\n",
    "\n"
   ]
  },
  {
   "cell_type": "markdown",
   "id": "74113fc5",
   "metadata": {},
   "source": [
    "## Rectangular Data\n",
    "\n",
    "__\n",
    "**Key Terms**\n",
    "1. Data frame: Rectangular data such as a spreadsheet are the basic data structure for statistical and ML models.\n",
    "2. Feature: A column within a data table. Also may be referred to as attribute, input, predictor, or variable.\n",
    "3. Outcome: Data science projects often involve predicting an outcome such as yes/no. The features are often used to predict the output in an experiment or study. Also may be referred to as dependent variable, response, target, or output.\n",
    "4. Records: A row within a table. Also referred to as case, instance, observation, pattern, or sample.\n",
    "___\n",
    "\n",
    "\n",
    "\n",
    "| Category        | Currency | sellerRating | Duration | endDay | ClosePrice | OpenPrice | Competive? |\n",
    "| :---:           |:---:     | :---:        | :---:    | :---:  | :---:      | :---:     | :---:      |\n",
    "| Music/Movie/Game| US       | 3249         | 5        | Mon    | 0.01       | 0.01      | 0          |\n",
    "| Music/Movie/Game| US       | 3249         | 5        | Mon    | 0.01       | 0.01      | 0          |\n",
    "| Automotive      | US       | 3115         | 7        | Tue    | 0.01       | 0.01      | 0          |\n",
    "| Automotive      | US       | 3115         | 7        | Tue    | 0.01       | 0.01      | 0          |\n",
    "| Automotive      | US       | 3115         | 7        | Tue    | 0.01       | 0.01      | 0          |\n",
    "| Automotive      | US       | 3115         | 7        | Tue    | 0.01       | 0.01      | 0          |\n",
    "| Automotive      | US       | 3115         | 7        | Tue    | 0.01       | 0.01      | 1          |\n",
    "| Automotive      | US       | 3115         | 7        | Tue    | 0.01       | 0.01      | 1          |\n",
    "\n",
    "<center>\n",
    "    Table 1.1: A typical data frame format\n",
    "</center>\n",
    "\n",
    "The typical frame of reference for an analysis in data science is rectangular data such that in a spreadsheet or database table. Rectangular data is the general name for the data with instances stored in each row and features stored in each column. Data frames are specific examples of a rectangular data format in python and R. A common task is taking unstructured data and formatting into a single table or pulling data from several sources into a single table.\n",
    "\n",
    "Table 1.1 shows a typical data frame which contains both numeric and categorical data. The data is from an different auctions. The 'Competive?' feature is an example of a binary data. This feature could act as a target variable for a predictive model to determine if a given auction was competitive or not.\n",
    "\n",
    "Database tables contain one or more columns which act as an index or row numer. The python libary *pandas* automatically adds a row index to a data frame when its loaded. It's possible to add mulitlevel/hierarchical indices to improve efficiency. \n",
    "\n",
    "There are important data types which are inherently not rctangular and must be handled in a different manner. Time series data such signals from IoT sensors are succesive measurements of a variable. This can be used in forecasting models. Spatial data used in 3D mapping and location analytics are more complex than rectangular data. The data is an object like a building and its spatial coordinates. Graph or network data can be used to reprent the relationship between entities. For example, a network could reprent the friends on a social media website where user are nodes and a connection between users indicates friendship. \n",
    "\n",
    "___\n",
    "**Key Ideas**\n",
    "1. The basic data structure in data science is a data frame with rows (representing records) and columns (representing features).\n",
    "2. The terminology can be confusing since different fields use different words to refer to the same thing. For instance, a feature can also be referred to as a attribute or input.\n",
    "___"
   ]
  },
  {
   "cell_type": "markdown",
   "id": "2291e9e7",
   "metadata": {},
   "source": [
    "## Estimates of Location\n",
    "\n",
    "___\n",
    "**Key Terms**\n",
    "1. Mean (or average): Sum of all values divided by the number of values\n",
    "2. Weigthed Mean (or average): Sum of all values times a weight divided by the sum of the weights\n",
    "3. Median (or 50th percentile): The value such that 50% of the data lies above and below.\n",
    "4. Percentile (or quantile): The value such that $P$% of the data lies below.\n",
    "5. Weighted Median: The value such that one half of the sum of the weights lies above and below the sorted data.\n",
    "6. Trimmed Mean (or truncated mean): The average of all values after dropping a fixed number of extreme values.\n",
    "7. Robust (or resistant): Not sensitive to outliers.\n",
    "8. Outlier (or extreme value): a value that is very different from most of the data.\n",
    "___\n",
    "\n",
    "Variable with measured or counted data may have thousands of entries with distinct values. We need a way to get a typical value for such features in a dataset. This measure gives gives us an estimate of where most of the data is located. The simplest method is to compute the mean value of the feature. However, this may not always be the best way to measure the central value. For this reason, a wide variety of central measures have been developed.\n",
    "\n",
    "### Mean\n",
    "The most baisc estimate of location, aka the average value. For a set of values $x_i$, the mean value, denoted $\\bar{x}$ is given by\n",
    "$$\\bar{x}=\\frac{\\sum_{i=1}^{n} x_i}{n}$$\n",
    "where $n$ is the numer of values. The trimmed mean is a variation where we sort the values, drop a certain number of the minimum and maximum values, then compute the mean with the remaining values. Say we want to omit the $p$ number of of smallest and largest values, then the trimmed mean $\\bar{x}$ is \n",
    "$$\\bar{x}=\\frac{\\sum_{i=p+1}^{n-p}x_i}{n-2p}$$\n",
    "The trimmed mean elimates extreme values from our calculation. Another type of mean is the weighted mean denoted $x_w$ where each value $x_i$ is multiplied with a corresponding weight $w_i$. \n",
    "$$x_w=\\frac{\\sum_{i=1}^{n}w_ix_i}{\\sum_{i=1}^{n}w_i}$$\n",
    "There are two reasons we may want to use a weighted mean. The first is that sometimes some values are inherently more variable than others. Lower weights are assigned to highly variable values. For instance, one sensor in a network may be less accurate than the others and as such be assigned a low weight. The other reason is that the gatheed data may not equally represent the diffent groups that we are interested in measuring. For instance in political polling it is quite difficult to get a sample of respondents which matches the county's voters demographically. As such, responses are weighted based on demographics such as age, race, and gender to better reflect match the demographics of likely voters.\n",
    "\n",
    "### Median and Robust Estimates\n",
    "the median is the middle number in a sorted list of data. If there are a even number of values in the data, then the median value is the average of the two middle values. The meadian value can be useful to calculate particularly when the data has a large range of values. We can aslo compute a weighted median which is robust to outliers. Instead of the middle value, the weighted median is the value such that the sum of the weights is equal for the lower and upper halves of the sorted list. An outlier is any value that is very distant from the other values in a dataset. The exact definition is somewhat subjective. Outliers can be valid values, but are often generated by data errors(for instance mixing feet and meter values) or faulty sensors. Outliers can be lead to a poor mean value, but the median value is typically still valid. Outliers should be identified and investigated based on the dataset and problem at hand. Typical data analysis, outliers are can be informative or cause trouble. However, if the focus of the analysis is the outliers, it's referred to as anamoly detection. In this case, the mass of regular values is used define what an constitutes an outlier. \n",
    "\n",
    "### Example: Location Estimates of Population and Murder Rates\n",
    "In the next few cells, we calculate some location values using population and murder rates in US states from the 2010 census."
   ]
  },
  {
   "cell_type": "code",
   "execution_count": 1,
   "id": "ec2a74de",
   "metadata": {},
   "outputs": [
    {
     "data": {
      "text/html": [
       "<div>\n",
       "<style scoped>\n",
       "    .dataframe tbody tr th:only-of-type {\n",
       "        vertical-align: middle;\n",
       "    }\n",
       "\n",
       "    .dataframe tbody tr th {\n",
       "        vertical-align: top;\n",
       "    }\n",
       "\n",
       "    .dataframe thead th {\n",
       "        text-align: right;\n",
       "    }\n",
       "</style>\n",
       "<table border=\"1\" class=\"dataframe\">\n",
       "  <thead>\n",
       "    <tr style=\"text-align: right;\">\n",
       "      <th></th>\n",
       "      <th>State</th>\n",
       "      <th>Population</th>\n",
       "      <th>Murder.Rate</th>\n",
       "      <th>Abbreviation</th>\n",
       "    </tr>\n",
       "  </thead>\n",
       "  <tbody>\n",
       "    <tr>\n",
       "      <th>0</th>\n",
       "      <td>Alabama</td>\n",
       "      <td>4779736</td>\n",
       "      <td>5.7</td>\n",
       "      <td>AL</td>\n",
       "    </tr>\n",
       "    <tr>\n",
       "      <th>1</th>\n",
       "      <td>Alaska</td>\n",
       "      <td>710231</td>\n",
       "      <td>5.6</td>\n",
       "      <td>AK</td>\n",
       "    </tr>\n",
       "    <tr>\n",
       "      <th>2</th>\n",
       "      <td>Arizona</td>\n",
       "      <td>6392017</td>\n",
       "      <td>4.7</td>\n",
       "      <td>AZ</td>\n",
       "    </tr>\n",
       "    <tr>\n",
       "      <th>3</th>\n",
       "      <td>Arkansas</td>\n",
       "      <td>2915918</td>\n",
       "      <td>5.6</td>\n",
       "      <td>AR</td>\n",
       "    </tr>\n",
       "    <tr>\n",
       "      <th>4</th>\n",
       "      <td>California</td>\n",
       "      <td>37253956</td>\n",
       "      <td>4.4</td>\n",
       "      <td>CA</td>\n",
       "    </tr>\n",
       "    <tr>\n",
       "      <th>5</th>\n",
       "      <td>Colorado</td>\n",
       "      <td>5029196</td>\n",
       "      <td>2.8</td>\n",
       "      <td>CO</td>\n",
       "    </tr>\n",
       "    <tr>\n",
       "      <th>6</th>\n",
       "      <td>Connecticut</td>\n",
       "      <td>3574097</td>\n",
       "      <td>2.4</td>\n",
       "      <td>CT</td>\n",
       "    </tr>\n",
       "    <tr>\n",
       "      <th>7</th>\n",
       "      <td>Delaware</td>\n",
       "      <td>897934</td>\n",
       "      <td>5.8</td>\n",
       "      <td>DE</td>\n",
       "    </tr>\n",
       "  </tbody>\n",
       "</table>\n",
       "</div>"
      ],
      "text/plain": [
       "         State  Population  Murder.Rate Abbreviation\n",
       "0      Alabama     4779736          5.7           AL\n",
       "1       Alaska      710231          5.6           AK\n",
       "2      Arizona     6392017          4.7           AZ\n",
       "3     Arkansas     2915918          5.6           AR\n",
       "4   California    37253956          4.4           CA\n",
       "5     Colorado     5029196          2.8           CO\n",
       "6  Connecticut     3574097          2.4           CT\n",
       "7     Delaware      897934          5.8           DE"
      ]
     },
     "execution_count": 1,
     "metadata": {},
     "output_type": "execute_result"
    }
   ],
   "source": [
    "from scipy.stats import trim_mean\n",
    "import numpy as np\n",
    "import pandas as pd\n",
    "import wquantiles\n",
    "\n",
    "#loading the dataset from local storage and showing a few rows\n",
    "state= pd.read_csv('data/state.csv')\n",
    "state.head(8)"
   ]
  },
  {
   "cell_type": "code",
   "execution_count": 2,
   "id": "9a4181a2",
   "metadata": {},
   "outputs": [
    {
     "name": "stdout",
     "output_type": "stream",
     "text": [
      "Mean Population= 6162876.3 ----- Trimmed Mean Population= 4783697.125 ----- Median Population= 4436369.5\n"
     ]
    }
   ],
   "source": [
    "#calculating the mean, trimmed mean, and median values of the population column. The trimmed mean drops the states with\n",
    "#five smallest and five largest populations. \n",
    "\n",
    "meanPop= state['Population'].mean()\n",
    "trimMeanPop= trim_mean(state['Population'],0.1)\n",
    "medianPop= state['Population'].median()\n",
    "\n",
    "print('Mean Population=',meanPop,'----- Trimmed Mean Population=',trimMeanPop,'----- Median Population=',medianPop)"
   ]
  },
  {
   "cell_type": "code",
   "execution_count": 3,
   "id": "17a08983",
   "metadata": {},
   "outputs": [
    {
     "name": "stdout",
     "output_type": "stream",
     "text": [
      "Average US murder rate= 4.445833981123393 ----- Median US murder rate= 4.4\n"
     ]
    }
   ],
   "source": [
    "#we can use numpy to calculate a weighted average. To calculate the weighted median a special library 'wquantiles' is used.\n",
    "#It can be downloaded to the environment with pip install. The weighted values tell where the the murder rate is weighted \n",
    "#by the population tells us the murder rate across the country.\n",
    "\n",
    "weightedMean= np.average(state['Murder.Rate'],weights=state['Population'])\n",
    "weightedMedian= wquantiles.median(state['Murder.Rate'], weights=state['Population'])\n",
    "\n",
    "print('Average US murder rate=', weightedMean,'----- Median US murder rate=', weightedMedian)"
   ]
  },
  {
   "cell_type": "markdown",
   "id": "1b8d9a7c",
   "metadata": {},
   "source": [
    "___\n",
    "**Key Ideas**\n",
    "1. The basic metric for location is the mean, but it can be sensitive to extreme values (outliers).\n",
    "2. Other metrics such as median and trimmed mean are less sensitive to outliers and unusual distributions and hence are more robust."
   ]
  },
  {
   "cell_type": "markdown",
   "id": "41bd42cd",
   "metadata": {},
   "source": [
    "## Estimates of Variability\n",
    "\n",
    "___\n",
    "**Key Terms**\n",
    "1. Deviations: The difference between the observed values and the estimate of location. Also referred to as as errors or residuals.\n",
    "2. Variance: The sum of squared deviations from the mean divided by $n-1$ where $n$ is the number of data values. Also referred to as the mean-squared-error.\n",
    "3. Standard Deviation: The square root of the variance.\n",
    "4. Mean Absolute Deviation: The mean of the absolute values of the deviations from the mean. Also referred to as the L_1 norm or Manhattan norm.\n",
    "5. Median Absolute Deviation from the Median: The median of the absolute values of the deviations from the median. \n",
    "6. Range: The difference between the largest and smallest values in the dataset. \n",
    "7. Order Statistics: Metrics based on the data values sorted from smallest to biggest. Also referred to as ranks.\n",
    "8. Persentile: The value such that $P$% of the values take on values on this value or less and $(100-P)$% take on this value or more.\n",
    "9. Interquartile Range (IQR): The difference between the 75th percentile and the 25th percentile.\n",
    "___\n",
    "\n",
    "The most widely used measures of variance are based on deviations. That is, the differences between each value and the estimate of location. These differences tell us how dispersed the values are around the central estimate. One variation measure is to estimate the average of the deviations. To avoid cancelling between positive and negative deviations, the absolute value is used. This gives us the formula for the mean absolute deviation\n",
    "<center>\n",
    "    Mean Absolute Deviation$=\\frac{\\sum_{i=1}^{n}|x_i-\\bar{x}|}{n}$\n",
    "</center>\n",
    "\n",
    "where $\\bar{x}$ is the sample mean.\n",
    "\n",
    "The most well known variance measures are the variance and standard deviation. The variance is the average of the squared deviations and the standard deviation is the square root of the variance. \n",
    "<center>\n",
    "    Variance = $s^2=\\frac{\\sum_{i=1}^{n}(x_i-\\bar{x})^2}{n-1}$\n",
    "</center>\n",
    "<center>\n",
    "    Standard Deviation = $s=\\sqrt{Variance}$ \n",
    "</center>\n",
    "\n",
    "The standard deviation is simpler to interpret since it is on the same scale as the original data. However, all the variation measures above are not robsut to outliers. A robust estimate of variability is given by the median absolute deviation from the median or MAD.\n",
    "$$MAD=median(|x_1-m|, ..., |x_N-m|)$$\n",
    "where $m$ is the median. It also possible to calculate a trimmed standard deviation as we did with the trimmed mean. It should also be noted that the variability described above should not be diectly compared with one another, they are equaivalent estimates.\n",
    "\n",
    "A different method to measure dispersion is based on looking at the spread of the data. Stats which are based on ranked/ordered data are called order statistics. The most basic measure is the difference between the largest and smallest value, called the range. However, it is generally not very useful. These measures are based on percentiles. The $Pth$ percentile is a value such that $P$% of the values take on that value or less. In this light, the median value is the 50th percentile. A common variability measure is the the interquartile range (IQR) which is the difference between the 25th and 75th percentles. Sorting the data can be omputationally expensive for large datasets.\n",
    "\n",
    "### Example: Variability Estimates of State Population\n",
    "Using 'Population' column from the 'states' dataset, let's look at how we can compute some variability measures in python."
   ]
  },
  {
   "cell_type": "code",
   "execution_count": 4,
   "id": "a69e2c39",
   "metadata": {},
   "outputs": [
    {
     "data": {
      "text/html": [
       "<div>\n",
       "<style scoped>\n",
       "    .dataframe tbody tr th:only-of-type {\n",
       "        vertical-align: middle;\n",
       "    }\n",
       "\n",
       "    .dataframe tbody tr th {\n",
       "        vertical-align: top;\n",
       "    }\n",
       "\n",
       "    .dataframe thead th {\n",
       "        text-align: right;\n",
       "    }\n",
       "</style>\n",
       "<table border=\"1\" class=\"dataframe\">\n",
       "  <thead>\n",
       "    <tr style=\"text-align: right;\">\n",
       "      <th></th>\n",
       "      <th>State</th>\n",
       "      <th>Population</th>\n",
       "      <th>Murder.Rate</th>\n",
       "      <th>Abbreviation</th>\n",
       "    </tr>\n",
       "  </thead>\n",
       "  <tbody>\n",
       "    <tr>\n",
       "      <th>0</th>\n",
       "      <td>Alabama</td>\n",
       "      <td>4779736</td>\n",
       "      <td>5.7</td>\n",
       "      <td>AL</td>\n",
       "    </tr>\n",
       "    <tr>\n",
       "      <th>1</th>\n",
       "      <td>Alaska</td>\n",
       "      <td>710231</td>\n",
       "      <td>5.6</td>\n",
       "      <td>AK</td>\n",
       "    </tr>\n",
       "    <tr>\n",
       "      <th>2</th>\n",
       "      <td>Arizona</td>\n",
       "      <td>6392017</td>\n",
       "      <td>4.7</td>\n",
       "      <td>AZ</td>\n",
       "    </tr>\n",
       "    <tr>\n",
       "      <th>3</th>\n",
       "      <td>Arkansas</td>\n",
       "      <td>2915918</td>\n",
       "      <td>5.6</td>\n",
       "      <td>AR</td>\n",
       "    </tr>\n",
       "    <tr>\n",
       "      <th>4</th>\n",
       "      <td>California</td>\n",
       "      <td>37253956</td>\n",
       "      <td>4.4</td>\n",
       "      <td>CA</td>\n",
       "    </tr>\n",
       "    <tr>\n",
       "      <th>5</th>\n",
       "      <td>Colorado</td>\n",
       "      <td>5029196</td>\n",
       "      <td>2.8</td>\n",
       "      <td>CO</td>\n",
       "    </tr>\n",
       "    <tr>\n",
       "      <th>6</th>\n",
       "      <td>Connecticut</td>\n",
       "      <td>3574097</td>\n",
       "      <td>2.4</td>\n",
       "      <td>CT</td>\n",
       "    </tr>\n",
       "    <tr>\n",
       "      <th>7</th>\n",
       "      <td>Delaware</td>\n",
       "      <td>897934</td>\n",
       "      <td>5.8</td>\n",
       "      <td>DE</td>\n",
       "    </tr>\n",
       "  </tbody>\n",
       "</table>\n",
       "</div>"
      ],
      "text/plain": [
       "         State  Population  Murder.Rate Abbreviation\n",
       "0      Alabama     4779736          5.7           AL\n",
       "1       Alaska      710231          5.6           AK\n",
       "2      Arizona     6392017          4.7           AZ\n",
       "3     Arkansas     2915918          5.6           AR\n",
       "4   California    37253956          4.4           CA\n",
       "5     Colorado     5029196          2.8           CO\n",
       "6  Connecticut     3574097          2.4           CT\n",
       "7     Delaware      897934          5.8           DE"
      ]
     },
     "execution_count": 4,
     "metadata": {},
     "output_type": "execute_result"
    }
   ],
   "source": [
    "state.head(8)"
   ]
  },
  {
   "cell_type": "code",
   "execution_count": 6,
   "id": "a81d9a92",
   "metadata": {},
   "outputs": [
    {
     "name": "stdout",
     "output_type": "stream",
     "text": [
      "standard deviation=  6848235.347401142 ----- Interquantile range=  4847308.0 ----- median absolute deviation=  3849876.1459979336\n"
     ]
    }
   ],
   "source": [
    "#note that the scipy library has a mad function which is deprecated\n",
    "from statsmodels.robust.scale import mad\n",
    "\n",
    "standDev= state['Population'].std()\n",
    "IQR= state['Population'].quantile(0.75) - state['Population'].quantile(0.25)\n",
    "mad= mad(state['Population'])\n",
    "\n",
    "print('standard deviation= ',standDev,'----- Interquantile range= ',IQR,'----- median absolute deviation= ',mad)"
   ]
  },
  {
   "cell_type": "markdown",
   "id": "bb81588b",
   "metadata": {},
   "source": [
    "___\n",
    "**Key Ideas**\n",
    "1. Variance and standard deviation are the most widespread and routinely reported stats of variability.\n",
    "2. Both of those measures are sensitive to otuliers.\n",
    "3. mean absolute deviation, median absolute deviation from the median, and percentiles are more robust measures of variability.\n",
    "___"
   ]
  },
  {
   "cell_type": "markdown",
   "id": "e46fa2e6",
   "metadata": {},
   "source": [
    "## Exploring the Data Distribution\n",
    "\n",
    "___\n",
    "**Key Terms**\n",
    "1. Boxplot: A plot introduced by Tukey as a quick way to visualize the data distribution. Also called a whiskers plot.\n",
    "2. Frequency table: A ally of the count of numeric data values that fall into a set of intervals/boxes.\n",
    "3. Histogram: A plot of the frequency table with the bins on the x-axis and the count on the y-axis. While similar, bar charts should not be confused with a histogram. \n",
    "4. Density Plot: A smoothed version of the histogram often based on a kernel density estimate.\n",
    "___\n",
    "\n",
    "\n",
    "The estimates thus far reduce our dataset down to a single value. It's also useful to explore how the the data is distributed overall with visuals. First, we can calculate several percentile values to get a sense of the distribution, especially the tail behavior. "
   ]
  },
  {
   "cell_type": "code",
   "execution_count": 9,
   "id": "fbe0d768",
   "metadata": {},
   "outputs": [
    {
     "data": {
      "text/plain": [
       "0.05    1.600\n",
       "0.25    2.425\n",
       "0.50    4.000\n",
       "0.75    5.550\n",
       "0.95    6.510\n",
       "Name: Murder.Rate, dtype: float64"
      ]
     },
     "execution_count": 9,
     "metadata": {},
     "output_type": "execute_result"
    }
   ],
   "source": [
    "# calulating the 5, 25, 50, 75, 95 percentile values\n",
    "state['Murder.Rate'].quantile([0.05,.25,.5,.75,.95])"
   ]
  },
  {
   "cell_type": "markdown",
   "id": "122899b3",
   "metadata": {},
   "source": [
    "The median value is 4 murders per 100000 people. Next, we can create a Tukey box plot which is based on percentiles. Below is a boxplot of the population values. "
   ]
  },
  {
   "cell_type": "code",
   "execution_count": 10,
   "id": "5c8dcb23",
   "metadata": {},
   "outputs": [
    {
     "data": {
      "text/plain": [
       "Text(0, 0.5, 'Population (millions)')"
      ]
     },
     "execution_count": 10,
     "metadata": {},
     "output_type": "execute_result"
    },
    {
     "data": {
      "image/png": "[encoded data removed]",
      "text/plain": [
       "<Figure size 640x480 with 1 Axes>"
      ]
     },
     "metadata": {},
     "output_type": "display_data"
    }
   ],
   "source": [
    "#Tukey box plot of population values in millions\n",
    "ax= (state['Population']/1000000).plot.box()\n",
    "ax.set_ylabel('Population (millions)')"
   ]
  },
  {
   "cell_type": "markdown",
   "id": "70a1d3d1",
   "metadata": {},
   "source": [
    "The 25th and 75th percentile values define the top and bottom of the box. From the plot, it can be seen that 50% of the states lie between around 2-7 million and the median state population is 5 million. The data outside the extended lines called 'whiskers' are plotted as single points and are often caled outliers.\n",
    "\n",
    "Next, let's create a frequency table and histogram from the population data. The frequency table and histogram can be made with pandas. The histogram is a way to visualize the frequency table."
   ]
  },
  {
   "cell_type": "code",
   "execution_count": 12,
   "id": "ef5bcf0c",
   "metadata": {},
   "outputs": [
    {
     "data": {
      "text/plain": [
       "(526935.67, 4232659.0]      24\n",
       "(4232659.0, 7901692.0]      14\n",
       "(7901692.0, 11570725.0]      6\n",
       "(11570725.0, 15239758.0]     2\n",
       "(15239758.0, 18908791.0]     1\n",
       "(18908791.0, 22577824.0]     1\n",
       "(22577824.0, 26246857.0]     1\n",
       "(33584923.0, 37253956.0]     1\n",
       "(26246857.0, 29915890.0]     0\n",
       "(29915890.0, 33584923.0]     0\n",
       "Name: Population, dtype: int64"
      ]
     },
     "execution_count": 12,
     "metadata": {},
     "output_type": "execute_result"
    }
   ],
   "source": [
    "#frequency table of state population data. The left column contains the population ranges for each bin. The right column\n",
    "#tells us how many states are in each bin.\n",
    "\n",
    "binnedPop= pd.cut(state['Population'], 10)\n",
    "binnedPop.value_counts()"
   ]
  },
  {
   "cell_type": "code",
   "execution_count": 13,
   "id": "8a9278cf",
   "metadata": {},
   "outputs": [
    {
     "data": {
      "text/plain": [
       "Text(0.5, 0, 'Population (millions)')"
      ]
     },
     "execution_count": 13,
     "metadata": {},
     "output_type": "execute_result"
    },
    {
     "data": {
      "image/png": "[encoded data removed]",
      "text/plain": [
       "<Figure size 400x400 with 1 Axes>"
      ]
     },
     "metadata": {},
     "output_type": "display_data"
    }
   ],
   "source": [
    "#histogram of the data\n",
    "ax= (state['Population']/1000000).plot.hist(figsize=(4,4))\n",
    "ax.set_xlabel('Population (millions)')"
   ]
  },
  {
   "cell_type": "markdown",
   "id": "0e95d948",
   "metadata": {},
   "source": [
    "Now let's estimate the distribution by creating a density plot. The density plot can thought of as a smoothed histogram plot. The density plot normalizes the data so that the area under the curve is equal to 1. Below is a density plot created using the murder rate data. "
   ]
  },
  {
   "cell_type": "code",
   "execution_count": 16,
   "id": "5714b9c6",
   "metadata": {},
   "outputs": [
    {
     "data": {
      "text/plain": [
       "Text(0.5, 0, 'Murder Rate (per 100000)')"
      ]
     },
     "execution_count": 16,
     "metadata": {},
     "output_type": "execute_result"
    },
    {
     "data": {
      "image/png": "[encoded data removed]",
      "text/plain": [
       "<Figure size 640x480 with 1 Axes>"
      ]
     },
     "metadata": {},
     "output_type": "display_data"
    }
   ],
   "source": [
    "ax= state['Murder.Rate'].plot.hist(density=True, xlim=[0,12], bins=range(1,12))\n",
    "state['Murder.Rate'].plot.density(ax=ax)\n",
    "ax.set_xlabel('Murder Rate (per 100000)')"
   ]
  },
  {
   "cell_type": "markdown",
   "id": "fa5917a9",
   "metadata": {},
   "source": [
    "___\n",
    "**Key Ideas**\n",
    "1. A frequency histogram plots frequency on the y-axis and variable values on the x-axis. It gives a sense of the distribution.\n",
    "2. A frequency table is a tabular version of the frequency counts in a histogram.\n",
    "3. A boxplot also gives a sense of the distribution. It is often used in side by side comparisons of distributions.\n",
    "4. A density plot is a smoothed version of the histogram.\n",
    "___"
   ]
  },
  {
   "cell_type": "markdown",
   "id": "cd7cd776",
   "metadata": {},
   "source": [
    "## Exploring Binary and Categorical Data\n",
    "\n",
    "___\n",
    "**Key Terms**\n",
    "1. Mode: The most commonly occurring category or value in a data set.\n",
    "2. Expected value: When the categories can be associated with a numeric value, this gives an average value based on a category's probability of occurrence.\n",
    "3. Bar charts: The frequency or proportion for each category plotted as bars.\n",
    "4. Pie charts: The frequency or porportion for each category plotted as wedges on a pie.\n",
    "___"
   ]
  },
  {
   "cell_type": "code",
   "execution_count": null,
   "id": "b634e6d9",
   "metadata": {},
   "outputs": [],
   "source": []
  }
 ],
 "metadata": {
  "kernelspec": {
   "display_name": "Python 3 (ipykernel)",
   "language": "python",
   "name": "python3"
  },
  "language_info": {
   "codemirror_mode": {
    "name": "ipython",
    "version": 3
   },
   "file_extension": ".py",
   "mimetype": "text/x-python",
   "name": "python",
   "nbconvert_exporter": "python",
   "pygments_lexer": "ipython3",
   "version": "3.9.16"
  }
 },
 "nbformat": 4,
 "nbformat_minor": 5
}
