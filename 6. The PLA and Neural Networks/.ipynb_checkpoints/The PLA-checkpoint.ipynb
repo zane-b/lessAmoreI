{
 "cells": [
  {
   "cell_type": "markdown",
   "id": "6b738043",
   "metadata": {},
   "source": [
    "## The Perceptron Learning Algorithm \n",
    "Describe the PLA is vivid detail. This is where the concepts of weights nd activations are introduced. This is the building block for ANNs."
   ]
  },
  {
   "cell_type": "markdown",
   "id": "4c6ee2a1",
   "metadata": {},
   "source": [
    "## Rferences and Resources\n",
    "\n",
    "1. Learning from Data by AML\n",
    "2. Your notes and code from project 0 of NN course"
   ]
  }
 ],
 "metadata": {
  "kernelspec": {
   "display_name": "Python 3 (ipykernel)",
   "language": "python",
   "name": "python3"
  },
  "language_info": {
   "codemirror_mode": {
    "name": "ipython",
    "version": 3
   },
   "file_extension": ".py",
   "mimetype": "text/x-python",
   "name": "python",
   "nbconvert_exporter": "python",
   "pygments_lexer": "ipython3",
   "version": "3.9.16"
  }
 },
 "nbformat": 4,
 "nbformat_minor": 5
}
